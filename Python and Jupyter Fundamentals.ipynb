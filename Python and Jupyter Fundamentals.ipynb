{
 "cells": [
  {
   "cell_type": "code",
   "execution_count": 5,
   "id": "bdd1cd19-09cc-43a9-b986-ee6fda8c199b",
   "metadata": {},
   "outputs": [
    {
     "name": "stdout",
     "output_type": "stream",
     "text": [
      "Addition: 15\n",
      "Subtraction: 5\n",
      "Multiplication: 50\n",
      "Division: 2.0\n",
      "Integer Division: 2\n",
      "Modulus: 0\n",
      "Power: 100000\n"
     ]
    }
   ],
   "source": [
    "#integers and floats\n",
    "a = 10\n",
    "b = 5\n",
    "addition = a + b\n",
    "subtraction = a - b\n",
    "multiplication = a * b\n",
    "division = a / b\n",
    "integer_division = a // b\n",
    "modulus = a % b\n",
    "power = a ** b\n",
    "print(f\"Addition: {addition}\")\n",
    "print(f\"Subtraction: {subtraction}\")\n",
    "print(f\"Multiplication: {multiplication}\")\n",
    "print(f\"Division: {division}\")\n",
    "print(f\"Integer Division: {integer_division}\")\n",
    "print(f\"Modulus: {modulus}\")\n",
    "print(f\"Power: {power}\")"
   ]
  },
  {
   "cell_type": "code",
   "execution_count": 19,
   "id": "de64ca4f-1bb0-4f8b-b736-c160515a800b",
   "metadata": {},
   "outputs": [
    {
     "name": "stdout",
     "output_type": "stream",
     "text": [
      "Integer to float: 10.0\n",
      "Float to integer: 5\n",
      "Addition: 15.5\n",
      "Subtraction: 4.5\n",
      "Multiplication: 55.0\n",
      "Division: 1.8181818181818181\n",
      "Integer Division: 1.0\n",
      "Modulus: 4.5\n",
      "Power: 100\n"
     ]
    }
   ],
   "source": [
    "a = 10\n",
    "b = 5.5\n",
    "float_a = float(a)\n",
    "print(f\"Integer to float: {float_a}\")\n",
    "int_b = int(b)\n",
    "print(f\"Float to integer: {int_b}\")\n",
    "addition = a + b\n",
    "subtraction = a - b\n",
    "multiplication = a * b\n",
    "division = a / b\n",
    "integer_division = a // b\n",
    "modulus = a % b\n",
    "power = a ** 2\n",
    "print(f\"Addition: {addition}\")\n",
    "print(f\"Subtraction: {subtraction}\")\n",
    "print(f\"Multiplication: {multiplication}\")\n",
    "print(f\"Division: {division}\")\n",
    "print(f\"Integer Division: {integer_division}\")\n",
    "print(f\"Modulus: {modulus}\")\n",
    "print(f\"Power: {power}\")"
   ]
  },
  {
   "cell_type": "code",
   "execution_count": 13,
   "id": "dbca8615-cfd7-4f55-a290-4224e37cd4b7",
   "metadata": {},
   "outputs": [
    {
     "name": "stdout",
     "output_type": "stream",
     "text": [
      "Stripped string: 'Hello World!'\n",
      "Lowercase string: ' hello world! '\n",
      "Uppercase string: ' HELLO WORLD! '\n",
      "Replaced string: ' Hello Python! '\n",
      "Concatenated string: 'Hello Python'\n",
      "Sliced string: 'Hell'\n"
     ]
    }
   ],
   "source": [
    "#\n",
    "my_string = \" Hello World! \"\n",
    "strip_string = my_string.strip()\n",
    "lowercase_string = my_string.lower()\n",
    "uppercase_string = my_string.upper()\n",
    "replaced_string = my_string.replace(\"World\", \"Python\")\n",
    "concat_string = \"Hello\" + \" \" + \"Python\"\n",
    "substring = my_string[1:5]\n",
    "print(f\"Stripped string: '{strip_string}'\")\n",
    "print(f\"Lowercase string: '{lowercase_string}'\")\n",
    "print(f\"Uppercase string: '{uppercase_string}'\")\n",
    "print(f\"Replaced string: '{replaced_string}'\")\n",
    "print(f\"Concatenated string: '{concat_string}'\")\n",
    "print(f\"Sliced string: '{substring}'\")"
   ]
  },
  {
   "cell_type": "code",
   "execution_count": 15,
   "id": "011137f0-ce5e-45cd-8292-1b83d51e1458",
   "metadata": {},
   "outputs": [
    {
     "name": "stdout",
     "output_type": "stream",
     "text": [
      "Updated list after append and remove: [1, 2, 4, 5, 6]\n",
      "Length of the list: 5\n",
      "Sorted list: [1, 2, 4, 5, 6]\n",
      "Combined list: [1, 2, 4, 5, 6, 7, 8, 9]\n",
      "Repeated list: [1, 2, 4, 5, 6, 1, 2, 4, 5, 6]\n"
     ]
    }
   ],
   "source": [
    "#\n",
    "my_list = [1, 2, 3, 4, 5]\n",
    "my_list.append(6)\n",
    "my_list.remove(3)\n",
    "list_length = len(my_list)\n",
    "sorted_list = sorted(my_list)\n",
    "combined_list = my_list + [7, 8, 9]\n",
    "repeated_list = my_list * 2\n",
    "print(f\"Updated list after append and remove: {my_list}\")\n",
    "print(f\"Length of the list: {list_length}\")\n",
    "print(f\"Sorted list: {sorted_list}\")\n",
    "print(f\"Combined list: {combined_list}\")\n",
    "print(f\"Repeated list: {repeated_list}\")"
   ]
  },
  {
   "cell_type": "code",
   "execution_count": 17,
   "id": "f334581f-b500-4896-b1a5-6de635f5a89e",
   "metadata": {},
   "outputs": [
    {
     "name": "stdout",
     "output_type": "stream",
     "text": [
      "Updated dictionary: {'name': 'Alice', 'age': 26, 'country': 'USA'}\n",
      "Accessed name: Alice\n",
      "Dictionary keys: dict_keys(['name', 'age', 'country'])\n",
      "Dictionary values: dict_values(['Alice', 26, 'USA'])\n"
     ]
    }
   ],
   "source": [
    "#\n",
    "my_dict = {\"name\": \"Alice\", \"age\": 25, \"city\": \"New York\"}\n",
    "my_dict[\"age\"] = 26\n",
    "my_dict[\"country\"] = \"USA\"\n",
    "del my_dict[\"city\"]\n",
    "name = my_dict[\"name\"]  \n",
    "keys = my_dict.keys()\n",
    "values = my_dict.values()\n",
    "print(f\"Updated dictionary: {my_dict}\")\n",
    "print(f\"Accessed name: {name}\")\n",
    "print(f\"Dictionary keys: {keys}\")\n",
    "print(f\"Dictionary values: {values}\")"
   ]
  },
  {
   "cell_type": "code",
   "execution_count": 21,
   "id": "c4d15256-6a86-46a1-b913-ff19a0df23cc",
   "metadata": {},
   "outputs": [
    {
     "name": "stdout",
     "output_type": "stream",
     "text": [
      "You are an adult.\n"
     ]
    }
   ],
   "source": [
    "#code using branching\n",
    "age = 20\n",
    "\n",
    "if age < 13:\n",
    "    print(\"You are a child.\")\n",
    "elif 13 <= age <= 18:\n",
    "    print(\"You are a teenager.\")\n",
    "else:\n",
    "    print(\"You are an adult.\")"
   ]
  },
  {
   "cell_type": "code",
   "execution_count": 23,
   "id": "7bde6424-cbca-4c33-9297-3e7344e8a5fc",
   "metadata": {},
   "outputs": [
    {
     "name": "stdout",
     "output_type": "stream",
     "text": [
      "The square of 1 is 1.\n",
      "The square of 2 is 4.\n",
      "The square of 3 is 9.\n",
      "The square of 4 is 16.\n",
      "The square of 5 is 25.\n",
      "The square of 1 is 1.\n",
      "The square of 2 is 4.\n",
      "The square of 3 is 9.\n",
      "The square of 4 is 16.\n",
      "The square of 5 is 25.\n"
     ]
    }
   ],
   "source": [
    "# iteration with for and while\n",
    "for num in range(1, 6):\n",
    "    square = num ** 2\n",
    "    print(f\"The square of {num} is {square}.\")\n",
    "\n",
    "#using a while loop\n",
    "num = 1\n",
    "while num <= 5:\n",
    "    square = num ** 2\n",
    "    print(f\"The square of {num} is {square}.\")\n",
    "    num += 1"
   ]
  },
  {
   "cell_type": "code",
   "execution_count": 25,
   "id": "14ec9151-3725-4d8f-82dc-f6111adb5dd4",
   "metadata": {},
   "outputs": [
    {
     "name": "stdout",
     "output_type": "stream",
     "text": [
      "The square of 2 is 4.\n",
      "The square of 4 is 16.\n",
      "The square of 6 is 36.\n",
      "The square of 8 is 64.\n",
      "The square of 10 is 100.\n"
     ]
    }
   ],
   "source": [
    "#combining branching and iteration\n",
    "count = 0\n",
    "num = 1\n",
    "while count < 5:\n",
    "    if num % 2 == 0:\n",
    "        square = num ** 2\n",
    "        print(f\"The square of {num} is {square}.\")\n",
    "        count += 1\n",
    "    num += 1"
   ]
  },
  {
   "cell_type": "code",
   "execution_count": 27,
   "id": "cec48df9-1bc6-4be1-b237-c8fb98e5e6b2",
   "metadata": {},
   "outputs": [
    {
     "name": "stdout",
     "output_type": "stream",
     "text": [
      "2 is even.\n",
      "4 is even.\n",
      "6 is even.\n",
      "8 is even.\n",
      "10 is even.\n"
     ]
    }
   ],
   "source": [
    "#using a for loop with if conditions to filter\n",
    "numbers = [1, 2, 3, 4, 5, 6, 7, 8, 9, 10]\n",
    "for num in numbers:\n",
    "    if num % 2 == 0:\n",
    "        print(f\"{num} is even.\")"
   ]
  },
  {
   "cell_type": "code",
   "execution_count": 29,
   "id": "bad7224e-7909-4b13-b96a-b2dc027d0a55",
   "metadata": {},
   "outputs": [
    {
     "name": "stdout",
     "output_type": "stream",
     "text": [
      "1\n",
      "2\n",
      "3\n",
      "4\n",
      "6\n",
      "7\n"
     ]
    }
   ],
   "source": [
    "#using break and continue in loops\n",
    "for num in range(1, 11):\n",
    "    if num == 5:\n",
    "        continue\n",
    "    if num == 8:\n",
    "        break\n",
    "    print(num)"
   ]
  },
  {
   "cell_type": "code",
   "execution_count": null,
   "id": "bf9f2e8f-b7e8-4d05-8b46-01ff365fe2bf",
   "metadata": {},
   "outputs": [],
   "source": []
  }
 ],
 "metadata": {
  "kernelspec": {
   "display_name": "Python 3 (ipykernel)",
   "language": "python",
   "name": "python3"
  },
  "language_info": {
   "codemirror_mode": {
    "name": "ipython",
    "version": 3
   },
   "file_extension": ".py",
   "mimetype": "text/x-python",
   "name": "python",
   "nbconvert_exporter": "python",
   "pygments_lexer": "ipython3",
   "version": "3.12.4"
  }
 },
 "nbformat": 4,
 "nbformat_minor": 5
}
